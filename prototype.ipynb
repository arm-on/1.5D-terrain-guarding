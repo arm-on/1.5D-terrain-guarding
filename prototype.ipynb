{
  "nbformat": 4,
  "nbformat_minor": 0,
  "metadata": {
    "colab": {
      "name": "prototype.ipynb",
      "provenance": [],
      "collapsed_sections": [],
      "machine_shape": "hm",
      "authorship_tag": "ABX9TyNpx1B2U3EIln/ZHm3IyiIe",
      "include_colab_link": true
    },
    "kernelspec": {
      "name": "python3",
      "display_name": "Python 3"
    },
    "accelerator": "GPU"
  },
  "cells": [
    {
      "cell_type": "markdown",
      "metadata": {
        "id": "view-in-github",
        "colab_type": "text"
      },
      "source": [
        "<a href=\"https://colab.research.google.com/github/arm-on/1.5D-terrain-guarding/blob/master/prototype.ipynb\" target=\"_parent\"><img src=\"https://colab.research.google.com/assets/colab-badge.svg\" alt=\"Open In Colab\"/></a>"
      ]
    },
    {
      "cell_type": "code",
      "metadata": {
        "id": "xZRYVm9y1eAC",
        "colab_type": "code",
        "colab": {}
      },
      "source": [
        "from google.colab import drive\n",
        "import warnings"
      ],
      "execution_count": null,
      "outputs": []
    },
    {
      "cell_type": "markdown",
      "metadata": {
        "id": "FxZH0CrXWAlN",
        "colab_type": "text"
      },
      "source": [
        "**Authentication**"
      ]
    },
    {
      "cell_type": "code",
      "metadata": {
        "id": "y7fiSgckBIpF",
        "colab_type": "code",
        "colab": {
          "base_uri": "https://localhost:8080/",
          "height": 52
        },
        "outputId": "2403d82a-9191-4ab7-e7dc-a13c4438124f"
      },
      "source": [
        "drive.mount('/gdrive', force_remount=True)\n",
        "%cd /gdrive/My Drive/THESIS/"
      ],
      "execution_count": null,
      "outputs": [
        {
          "output_type": "stream",
          "text": [
            "Mounted at /gdrive\n",
            "/gdrive/My Drive/THESIS\n"
          ],
          "name": "stdout"
        }
      ]
    },
    {
      "cell_type": "markdown",
      "metadata": {
        "id": "bMzxZkFjWHca",
        "colab_type": "text"
      },
      "source": [
        "**Importing the necessary libraries**"
      ]
    },
    {
      "cell_type": "code",
      "metadata": {
        "id": "wQ224cPaBO8L",
        "colab_type": "code",
        "colab": {}
      },
      "source": [
        "from experiment_v8 import *\n",
        "from globals import *\n",
        "from attention import *"
      ],
      "execution_count": null,
      "outputs": []
    },
    {
      "cell_type": "markdown",
      "metadata": {
        "id": "_lup1Ja_WcPF",
        "colab_type": "text"
      },
      "source": [
        "**Configuration**"
      ]
    },
    {
      "cell_type": "code",
      "metadata": {
        "id": "CLytgx5NCDvq",
        "colab_type": "code",
        "colab": {}
      },
      "source": [
        "np.set_printoptions(suppress=True)\n",
        "experiment_phase = 'training' # phase: training/querying/continue\n",
        "warnings.filterwarnings(\"ignore\")\n",
        "random_seed = 1234\n",
        "tf.random.set_seed(random_seed)\n",
        "seed(random_seed)\n",
        "shared_files = read_csv_as_dict('shared_files.csv')\n",
        "globals().update(shared_files)\n",
        "project_path = 'June/EXP-2020-6-20/'\n",
        "folder_path = 'wordexp/'\n",
        "gloss_max_rank = 100000\n",
        "num_head_words = 3000\n",
        "input_emb_size = 300\n",
        "lstm_output_size = 300\n",
        "dense_output_size = 300\n",
        "output_emb_size = 300\n",
        "pretrained_input = True\n",
        "fixed_embeddings = False\n",
        "pretrained_target = True\n",
        "normalize_vectors = False\n",
        "add_context = False\n",
        "augment_head = False\n",
        "augment_gloss = False\n",
        "save_train_test_samples = False\n",
        "save_tools = False\n",
        "save_weights = True\n",
        "use_intent_classifier = False\n",
        "max_hfake_per_sample = 5\n",
        "gfake_per_sample = {\n",
        "    3:5,\n",
        "    4:5\n",
        "}\n",
        "context_max_rank = 100000\n",
        "max_seq_len = 20\n",
        "learning_rate = 1.0\n",
        "margin = 1.0\n",
        "num_epochs = 50\n",
        "batch_size = 16\n",
        "test_sample_size = 40\n",
        "test_sample_topn = 10\n",
        "input_vector_model = 'fasttext'\n",
        "output_vector_model = 'fasttext'\n",
        "data_sources = {'wikipedia','amid','dehkhoda-vy','moeen-vy','farsnet'}\n",
        "vector_model_dir = {'fasttext':fasttext_dict_dir,'irblog':irblog2_wv_dir,'wiki200':wiki_wv_200_dir,'hamwv':hamshahri_wv_dir,'hamft':hamshahri_ft_dir,'wordak':wordak_wv_dir, 'wiki300':wiki_wv_300_dir,'twitter':twitter_wv_dir}\n",
        "max_sense = {\n",
        "    'wikipedia':500,\n",
        "    'amid':500,\n",
        "    'dehkhoda-vy':500,\n",
        "    'moeen-vy':500,\n",
        "    'farsnet':500\n",
        "}\n",
        "model_architecture = 'BiLSTM (attention)' #  bag of words, LSTM, BiLSTM, LSTM (attention), BiLSTM (attention), BiLSTM (multiheadattention)\n",
        "num_heads = 8\n",
        "d_model = 300\n",
        "loss_function = 'cosine' # cosine, ranking\n",
        "intent_project_path = 'July/2020-7-23/'\n",
        "intent_folder_path = 'exp9/'\n",
        "intent_maxlen = 20\n",
        "intent_threshold = 0.3\n",
        "intent_coefficient = 0.4\n",
        "vec_sim_coefficient = 0.6"
      ],
      "execution_count": null,
      "outputs": []
    },
    {
      "cell_type": "code",
      "metadata": {
        "id": "WSYzfzFTHopD",
        "colab_type": "code",
        "colab": {}
      },
      "source": [
        "if experiment_phase == 'training':\n",
        "    log_dir = project_path+folder_path+'report.dat'\n",
        "    log_obj = {\n",
        "        'gloss':str(gloss_max_rank),\n",
        "        'head':str(num_head_words),\n",
        "        'input_emb':str(input_emb_size),\n",
        "        'output_emb':str(output_emb_size),\n",
        "        'dense_output':str(dense_output_size),\n",
        "        'lstm_output':str(lstm_output_size),\n",
        "        'pretrained_input':input_vector_model if pretrained_input else 'no',\n",
        "        'pretrained_target':output_vector_model if pretrained_target else 'no',\n",
        "        'fixed_embeddings':'yes' if fixed_embeddings else 'no',\n",
        "        'normalize_vectors':'yes' if normalize_vectors else 'no',\n",
        "        'intent_classifier':'yes' if use_intent_classifier else 'no',\n",
        "        'context':str(context_max_rank) if add_context else 'no',\n",
        "        'augment_head':str(max_hfake_per_sample) if augment_head else 'no',\n",
        "        'augment_gloss':str(gfake_per_sample) if augment_gloss else 'no',\n",
        "        'margin':str(margin),\n",
        "        'seq_len':str(max_seq_len),\n",
        "        'learning_rate':str(learning_rate),\n",
        "        'batch_size':str(batch_size),\n",
        "        'data_sources':\" \".join(data_sources),\n",
        "        'max_sense':str(max_sense),\n",
        "        'model_architecture':model_architecture,\n",
        "        'loss_function':loss_function,\n",
        "        'intent_path':intent_project_path+intent_folder_path,\n",
        "        'intent_maxlen':str(intent_maxlen),\n",
        "        'intent_threshold':str(intent_threshold),\n",
        "        'intent_coefficient':str(intent_coefficient),\n",
        "        'vec_sim_coefficient':str(vec_sim_coefficient)\n",
        "    }\n",
        "    init_log(log_obj, log_dir)"
      ],
      "execution_count": null,
      "outputs": []
    },
    {
      "cell_type": "markdown",
      "metadata": {
        "id": "0Dhnb4tXWtDP",
        "colab_type": "text"
      },
      "source": [
        "**Loading**<br/>\n",
        "* Data \n",
        "* Stopwords\n",
        "* Normalizer\n",
        "* Ranking of words by frequency\n",
        "* Synonyms Set\n",
        "* POS Tags\n",
        "* Vector Model(s)"
      ]
    },
    {
      "cell_type": "code",
      "metadata": {
        "id": "4Fc3W5BaNM4-",
        "colab_type": "code",
        "colab": {}
      },
      "source": [
        "word_tags = read_pickle(wordtags_dir) if use_intent_classifier else defaultdict(set)\n",
        "ranking = read_pickle(ranking_dir)\n",
        "all_words = set(ranking)\n",
        "stopwords = read_lines(stopwords_dir)\n",
        "normalizer = read_json(normalizer_dir)\n",
        "synonyms = read_pickle(synonyms_dir)\n",
        "if experiment_phase in {'training','continue'}:\n",
        "    data = read_pickle(data_dir)\n",
        "input_vec_model = read_pickle(vector_model_dir[input_vector_model])\n",
        "output_vec_model = read_pickle(vector_model_dir[input_vector_model])\n",
        "if use_intent_classifier == True:\n",
        "    with open(intent_project_path+intent_folder_path+'model.json','r') as json_file:\n",
        "        intent_model_arch = json_file.read()\n",
        "    intent_model = tf.keras.models.model_from_json(intent_model_arch)\n",
        "    intent_model.load_weights(intent_project_path+intent_folder_path+'weights.h5')\n",
        "    intent_id2c = read_pickle(intent_project_path+intent_folder_path+'id2c.pkl')\n",
        "    intent_g2id = read_pickle(intent_project_path+intent_folder_path+'intent-g2id.pkl')\n",
        "    tools = {'normalizer':normalizer,'stopwords':stopwords,'synonyms':synonyms,'word_tags':word_tags, 'intent_g2id':intent_g2id, 'intent_maxlen':intent_maxlen, 'intent_model':intent_model, 'intent_threshold':intent_threshold, 'intent_id2c':intent_id2c, 'intent_coefficient':intent_coefficient, 'vec_sim_coefficient':vec_sim_coefficient}\n",
        "else:\n",
        "    tools = {'normalizer':normalizer,'stopwords':stopwords,'synonyms':synonyms,'word_tags':word_tags}"
      ],
      "execution_count": null,
      "outputs": []
    },
    {
      "cell_type": "code",
      "metadata": {
        "id": "pB24i9DjCopu",
        "colab_type": "code",
        "colab": {}
      },
      "source": [
        "items = []\n",
        "sources_counter = Counter()\n",
        "word_rank = {word:idx+1 for idx, word in enumerate(ranking)}\n",
        "if experiment_phase in {'training','continue'}:\n",
        "    for item in data:\n",
        "        sources_counter[item['dic']] += 1\n",
        "        new_item = {'word':item['word'],\n",
        "                    'rank':word_rank[item['word']]+1 if item['word'] in all_words else len(ranking)+1,\n",
        "                    'original_definition':item['meaning'],\n",
        "                    'preprocessed_definition':item['meaning'],\n",
        "                    'active':True,\n",
        "                    'array':None,\n",
        "                    'context':False,\n",
        "                    'type':'main',\n",
        "                    'sense_tags':item['tags'] if 'tags' in item else set(),\n",
        "                    'general_tags':item['general_tags'] if 'general_tags' in item else set(),\n",
        "                    'sid':item['sense_id'],\n",
        "                    'source':item['dic'],\n",
        "                    'phase':item['phase']\n",
        "                    }\n",
        "        items.append(new_item)"
      ],
      "execution_count": null,
      "outputs": []
    },
    {
      "cell_type": "markdown",
      "metadata": {
        "id": "5VzY8W9_XFQh",
        "colab_type": "text"
      },
      "source": [
        "**Preparing the Train, Test and Dev Sets**"
      ]
    },
    {
      "cell_type": "code",
      "metadata": {
        "id": "B01R_HZH8WKA",
        "colab_type": "code",
        "colab": {}
      },
      "source": [
        "if experiment_phase in {'training','continue'}:\n",
        "    ## fixing the data sources and senses\n",
        "    for item in items:\n",
        "        if item['source'] not in data_sources or (item['sid']>max_sense[item['source']]):\n",
        "            item['active'] = False\n",
        "    items = [item for item in items if item['active'] == True]\n",
        "    all_words = set([item['word'] for item in items])\n",
        "    ## removing html tags\n",
        "    for item in items:\n",
        "        item['word'] = remove_html_tags(item['word'])\n",
        "        item['original_definition'] = remove_html_tags(item['original_definition'])\n",
        "        item['preprocessed_definition'] = remove_html_tags(item['preprocessed_definition'])\n",
        "    ## deactivating samples without any Persian information\n",
        "    for item in items:\n",
        "        if not (has_any_persian(item['word']) and has_any_persian(item['original_definition'])):\n",
        "            item['active'] = False\n",
        "    items = [item for item in items if item['active'] == True]\n",
        "    all_words = set([item['word'] for item in items])\n",
        "    log_str = 'with Persian information - Number of Samples: '+str(len(items))+' - Number of Words: '+str(len(all_words))\n",
        "    write_line_to_file(log_str, log_dir)\n",
        "    ## normalizing characters\n",
        "    for item in items:\n",
        "        item['preprocessed_definition'] = normalize_characters(item['preprocessed_definition'], normalizer)\n",
        "        item['word'] = normalize_characters(item['word'], normalizer)\n",
        "    ## correcting whitespaces\n",
        "    for item in items:\n",
        "        item['word'] = correct_whitespaces(item['word'])\n",
        "        item['preprocessed_definition'] = correct_whitespaces(item['preprocessed_definition'])\n",
        "    ## tokenization\n",
        "    for item in items:\n",
        "        item['preprocessed_definition'] = tokenize(item['preprocessed_definition'])\n",
        "    ## removing self-definition(s)\n",
        "    for item in items:\n",
        "        item['preprocessed_definition'] = remove_self_definition(item['preprocessed_definition'], item['word'])\n",
        "    ## removing stopwords\n",
        "    for item in items:\n",
        "        item['preprocessed_definition'] = remove_stopwords(item['preprocessed_definition'], stopwords)\n",
        "    for item in items:\n",
        "        if item['word'] in stopwords:\n",
        "            item['active'] = False\n",
        "    items = [item for item in items if item['active'] == True]\n",
        "    all_words = set([item['word'] for item in items])\n",
        "    log_str = 'Stopwords removed - Number of Samples: '+str(len(items))+' - Number of Words: '+str(len(all_words))\n",
        "    write_line_to_file(log_str, log_dir)\n",
        "    ## deactivating unlearnables\n",
        "    for item in items:\n",
        "        if not has_vector(item['word'], output_vec_model):\n",
        "            item['active'] = False\n",
        "    items = [item for item in items if item['active'] == True]\n",
        "    all_words = set([item['word'] for item in items])\n",
        "    log_str = 'Unlearnables Removed - Number of Samples: '+str(len(items))+' - Number of Words: '+str(len(all_words))\n",
        "    write_line_to_file(log_str, log_dir)\n",
        "    ## deactivating short words\n",
        "    for item in items:\n",
        "        if len(item['word']) < 3:\n",
        "            item['active'] = False\n",
        "    items = [item for item in items if item['active'] == True]\n",
        "    all_words = set([item['word'] for item in items])\n",
        "    log_str = 'Short words removed - Number of Samples: '+str(len(items))+' - Number of Words: '+str(len(all_words))\n",
        "    write_line_to_file(log_str, log_dir)\n",
        "    ## deactivating short definitions\n",
        "    for item in items:\n",
        "        if len(item['preprocessed_definition']) == 1 and len(item['preprocessed_definition'][0]) < 3:\n",
        "            item['active'] = False\n",
        "    items = [item for item in items if item['active'] == True]\n",
        "    all_words = set([item['word'] for item in items])\n",
        "    log_str = 'Short definitions removed - Number of Samples: '+str(len(items))+' - Number of Words: '+str(len(all_words))\n",
        "    write_line_to_file(log_str, log_dir)\n",
        "    ## deactivating meaningless words\n",
        "    for item in items:\n",
        "        if len(item['preprocessed_definition']) == 0:\n",
        "            item['active'] = False\n",
        "    items = [item for item in items if item['active'] == True]\n",
        "    all_words = set([item['word'] for item in items])\n",
        "    log_str = 'Meaningless words removed - Number of Samples: '+str(len(items))+' - Number of Words: '+str(len(all_words))\n",
        "    write_line_to_file(log_str, log_dir)\n",
        "    ## normalizing heads by ranking (frequency)\n",
        "    active_words = set([item['word'] for item in items if item['active']==True])\n",
        "    temp_ranking = [word for word in ranking if word in active_words]\n",
        "    frequent_words = set([word for word in temp_ranking][:num_head_words])\n",
        "    context_words = set([word for word in temp_ranking][:context_max_rank])\n",
        "    for item in items:\n",
        "        if item['word'] not in frequent_words:\n",
        "            if add_context == True:\n",
        "                if item['word'] in context_words:\n",
        "                    item['phase'] = 'train'\n",
        "                    item['context'] = True\n",
        "                else:\n",
        "                    item['active'] = False\n",
        "            else:\n",
        "                item['active'] = False\n",
        "    items = [item for item in items if item['active'] == True]\n",
        "    all_words = set([item['word'] for item in items])\n",
        "    main_words = set([item['word'] for item in items if item['context']==False])\n",
        "    log_str = 'Normalized heads by frequency - Number of Samples: '+str(len(items))+' - Number of Words: '+str(len(all_words)) +' ('+str(len(main_words))+' Main Words)'\n",
        "    write_line_to_file(log_str, log_dir)\n",
        "    ## generating the comparison matrix\n",
        "    h2id = {}\n",
        "    id2h = {}\n",
        "    for i, h in enumerate(frequent_words):\n",
        "        h2id[h] = i\n",
        "        id2h[i] = h\n",
        "    comparison_matrix = zeros((num_head_words, output_emb_size))\n",
        "    if pretrained_target == True:\n",
        "        for item in items:\n",
        "            if item['phase'] == 'train' and item['word'] in frequent_words:\n",
        "                comparison_matrix[h2id[item['word']]] = output_vec_model[item['word']]\n",
        "    ## normalizing the tokens based on their frequency\n",
        "    tokens_lst = []\n",
        "    for item in items:\n",
        "        if item['phase'] == 'train':\n",
        "            tokens_lst.extend(item['preprocessed_definition'])\n",
        "    frequent_tokens = most_frequent(tokens_lst, gloss_max_rank)\n",
        "    for item in items:\n",
        "        item['preprocessed_definition'] = [token if token in frequent_tokens else 'UNK' for token in item['preprocessed_definition']]\n",
        "        if 'UNK' in item['preprocessed_definition']:\n",
        "            item['active'] = False\n",
        "    items = [item for item in items if item['active'] == True]\n",
        "    all_words = set([item['word'] for item in items])\n",
        "    main_words = set([item['word'] for item in items if item['context']==False])\n",
        "    log_str = 'Normalized tokens by frequency - Number of Samples: '+str(len(items))+' - Number of Words: '+str(len(all_words)) +' ('+str(len(main_words))+' Main Words)'\n",
        "    write_line_to_file(log_str, log_dir)\n",
        "    ## encoding the tokens\n",
        "    t2id = {}\n",
        "    id2t = {}\n",
        "    t2id['PAD'] = 0\n",
        "    t2id['UNK'] = 1\n",
        "    id2t[0] = 'PAD'\n",
        "    id2t[1] = 'UNK' \n",
        "    for i, t in enumerate(frequent_tokens, start=2):\n",
        "        t2id[t] = i\n",
        "        id2t[i] = t\n",
        "    ## generating the embedding matrix\n",
        "    embedding_matrix = zeros((len(frequent_tokens)+2, input_emb_size))\n",
        "    if pretrained_input == True:\n",
        "        for token in frequent_tokens:\n",
        "            try:\n",
        "                embedding_matrix[t2id[token]] = input_vec_model[token]\n",
        "                if normalize_vectors == True and LA.norm(embedding_matrix[t2id[token]])>0.0:\n",
        "                    embedding_matrix[t2id[token]] = embedding_matrix[t2id[token]]/LA.norm(embedding_matrix[t2id[token]])\n",
        "            except:\n",
        "                continue\n",
        "\n",
        "    ## fixing the length of sequences\n",
        "    for item in items:\n",
        "        tokens = item['preprocessed_definition']\n",
        "        item['preprocessed_definition'] = tokens[:max_seq_len] if len(tokens)>=max_seq_len else tokens+['PAD' for j in range(max_seq_len-len(tokens))]\n",
        "    ## removing the words with definitions that are only consisted of 'PAD' and 'UNK'\n",
        "    for item in items:\n",
        "        tokens = item['preprocessed_definition']\n",
        "        tokens = set(tokens)\n",
        "        if tokens.issubset({'PAD','UNK'}):\n",
        "            item['active'] = False\n",
        "    items = [item for item in items if item['active'] == True]\n",
        "    all_words = set([item['word'] for item in items])\n",
        "    log_str = 'Infoless definitions (UNK and PAD) removed - Number of Samples: '+str(len(items))+' - Number of Words: '+str(len(all_words))\n",
        "    write_line_to_file(log_str, log_dir)\n",
        "\n",
        "    ## removing duplicates (samples with equal word and definition)\n",
        "    # from the training data\n",
        "    sample_count = Counter()\n",
        "    for item in items:\n",
        "        if item['phase'] == 'train':\n",
        "            word = item['word']\n",
        "            tokens = item['preprocessed_definition']\n",
        "            sample_key = word+'-'+\"-\".join(tokens)\n",
        "            sample_count[sample_key] += 1\n",
        "            if sample_count[sample_key] > 1:\n",
        "                item['active'] = False\n",
        "    items = [item for item in items if item['active'] == True]\n",
        "    all_words = set([item['word'] for item in items])\n",
        "    main_words = set([item['word'] for item in items if item['context']==False])\n",
        "    log_str = 'duplicates removed from training data - Number of Samples: '+str(len(items))+' - Number of Words: '+str(len(all_words))+' ('+str(len(main_words))+' Main Words)'\n",
        "    write_line_to_file(log_str, log_dir)\n",
        "    # from the testing and development data\n",
        "    for item in items:\n",
        "        if item['phase'] != 'train':\n",
        "            word = item['word']\n",
        "            tokens = item['preprocessed_definition']\n",
        "            sample_key = word+'-'+\"-\".join(tokens)\n",
        "            sample_count[sample_key] += 1\n",
        "            if sample_count[sample_key] > 1:\n",
        "                item['active'] = False\n",
        "    items = [item for item in items if item['active'] == True]\n",
        "    all_words = set([item['word'] for item in items])\n",
        "    main_words = set([item['word'] for item in items if item['context']==False])\n",
        "    log_str = 'duplicates removed from unseen data - Number of Samples: '+str(len(items))+' - Number of Words: '+str(len(all_words))+' ('+str(len(main_words))+' Main Words)'\n",
        "    write_line_to_file(log_str, log_dir)\n",
        "    ## generating the data\n",
        "    for item in items:\n",
        "        tokens = item['preprocessed_definition']\n",
        "        nparray = [t2id[token] for token in tokens]\n",
        "        nparray = array(nparray)\n",
        "        item['array'] = nparray\n",
        "    train = [item for item in items if item['phase'] == 'train']\n",
        "    test = [item for item in items if item['phase'] == 'test']\n",
        "    dev = [item for item in items if item['phase'] == 'dev']\n",
        "    log_str = 'After Preprocessing: '+str(len(train))+' training samples, '+str(len(test))+' testing samples and '+str(len(dev))+' samples for development'\n",
        "    write_line_to_file(log_str, log_dir)\n",
        "    tools_part2 = {'t2id':t2id,'id2t':id2t,'h2id':h2id,'id2h':id2h,'embedding_matrix':embedding_matrix,'comparison_matrix':comparison_matrix}\n",
        "    tools.update(tools_part2)\n",
        "    train_sources_counter = Counter()\n",
        "    for item in train:\n",
        "        train_sources_counter[item['source']] += 1\n",
        "    test_sources_counter = Counter()\n",
        "    for item in test:\n",
        "        test_sources_counter[item['source']] += 1\n",
        "    dev_sources_counter = Counter()\n",
        "    for item in dev:\n",
        "        dev_sources_counter[item['source']] += 1\n",
        "    write_line_to_file('Training Data: '+str(sum(train_sources_counter.values())), log_dir)\n",
        "    write_line_to_file(str(train_sources_counter), log_dir)\n",
        "    write_line_to_file('Development Data: '+str(sum(dev_sources_counter.values())), log_dir)\n",
        "    write_line_to_file(str(dev_sources_counter), log_dir)\n",
        "    write_line_to_file('Testing Data: '+str(sum(test_sources_counter.values())), log_dir)\n",
        "    write_line_to_file(str(test_sources_counter), log_dir)"
      ],
      "execution_count": null,
      "outputs": []
    },
    {
      "cell_type": "code",
      "metadata": {
        "id": "XOsqxIYlGMZ7",
        "colab_type": "code",
        "colab": {}
      },
      "source": [
        "if experiment_phase == 'training':\n",
        "    words = list(set(list(h2id.keys())))\n",
        "    with open(project_path+folder_path+'words'+str(num_head_words)+'.pkl','wb') as file:\n",
        "        pickle.dump(words, file)"
      ],
      "execution_count": null,
      "outputs": []
    },
    {
      "cell_type": "code",
      "metadata": {
        "id": "PRtgkwzAWtGn",
        "colab_type": "code",
        "colab": {}
      },
      "source": [
        "if experiment_phase in {'training','continue'}:\n",
        "    from copy import deepcopy\n",
        "    # Making a counter to see if a sample already exists\n",
        "    item_count = Counter()\n",
        "    for item in items:\n",
        "        word = item['word']\n",
        "        tokens = item['preprocessed_definition']\n",
        "        definition = \" \".join(tokens)\n",
        "        key = word+'-'+definition\n",
        "        item_count[key] += 1\n",
        "\n",
        "    # Augmenting (head words)\n",
        "\n",
        "    head_augment = []\n",
        "    all_heads = set([item['word'] for item in items if item['phase']=='train'])\n",
        "    replaceable_heads = set([word for word in all_heads if word in synonyms])\n",
        "    if augment_head == True:\n",
        "        for item in train:\n",
        "            if len(train) % 100000 == 0:\n",
        "                print(len(train))\n",
        "            word = item['word']\n",
        "            tokens = item['preprocessed_definition']\n",
        "            definition = \" \".join(tokens)\n",
        "            syn_words = synonyms[word]\n",
        "            syn_words = set([w for w in syn_words if w in output_vec_model and w != word])\n",
        "            if len(syn_words) == 0:\n",
        "                continue\n",
        "            if len(syn_words) >= max_hfake_per_sample:\n",
        "                syn_candidates = sample(syn_words, max_hfake_per_sample)\n",
        "            else:\n",
        "                syn_candidates = list(syn_words)\n",
        "            for candidate in syn_candidates:\n",
        "                new_item = item.copy()\n",
        "                new_item['word'] = candidate\n",
        "                new_item['type'] = 'augment'\n",
        "                key = candidate+'-'+definition\n",
        "                if item_count[key] == 0:\n",
        "                    head_augment.append(new_item)\n",
        "                    item_count[key] += 1\n",
        "\n",
        "    # Augmenting (gloss words)\n",
        "\n",
        "    gloss_augment = []\n",
        "\n",
        "\n",
        "    usable_synonyms = defaultdict()\n",
        "    for (word, synset) in synonyms.items():\n",
        "        temp_synset = set([syn for syn in synset if syn != word and syn in t2id])\n",
        "        if len(temp_synset) > 0:\n",
        "            usable_synonyms[word] = temp_synset\n",
        "\n",
        "    gloss_augment = []\n",
        "\n",
        "    if augment_gloss == True:\n",
        "        for item in train:\n",
        "            \n",
        "            if item['type'] != 'main':\n",
        "                continue\n",
        "            word = item['word']\n",
        "            tokens = item['preprocessed_definition']\n",
        "            definition = \" \".join(tokens)\n",
        "            rep_tokens = set([token for token in tokens if token in usable_synonyms and token in input_vec_model])\n",
        "            for num_tokens_to_replace in gfake_per_sample.keys():\n",
        "                if len(rep_tokens) < num_tokens_to_replace:\n",
        "                    continue\n",
        "                remaining_samples = gfake_per_sample[num_tokens_to_replace]\n",
        "                remaining_tries = 50\n",
        "                while remaining_samples > 0 and remaining_tries > 0:\n",
        "                    chosen_to_be_changed = set(sample(rep_tokens, num_tokens_to_replace))\n",
        "                    what_to_replace_with = defaultdict()\n",
        "                    for token in chosen_to_be_changed:\n",
        "                        candidates = usable_synonyms[token]\n",
        "                        what_to_replace_with[token] = sample(candidates, 1)[0]\n",
        "                    new_item = deepcopy(item)\n",
        "                    new_item['preprocessed_definition'] = [what_to_replace_with[t] if t in chosen_to_be_changed else t for t in new_item['preprocessed_definition']]\n",
        "                    new_item['array'] = np.array([t2id[t] for t in new_item['preprocessed_definition']])\n",
        "                    new_item_key = new_item['word'] + '-' + \" \".join(new_item['preprocessed_definition'])\n",
        "                    remaining_tries -= 1\n",
        "                    if item_count[new_item_key] == 0:\n",
        "                        gloss_augment.append(new_item)\n",
        "                        item_count[new_item_key] += 1\n",
        "                        remaining_samples -= 1\n",
        "\n",
        "\n",
        "    train.extend(head_augment)\n",
        "    del head_augment\n",
        "    log_str = 'finished augmentation (head) - '+str(len(train))+' samples'\n",
        "    write_line_to_file(log_str, log_dir)\n",
        "    train.extend(gloss_augment)\n",
        "    del gloss_augment\n",
        "    log_str = 'finished augmentation (gloss) - '+str(len(train))+' samples'\n",
        "    write_line_to_file(log_str, log_dir)\n",
        "    del items"
      ],
      "execution_count": null,
      "outputs": []
    },
    {
      "cell_type": "code",
      "metadata": {
        "id": "JDRxe3_DeGMn",
        "colab_type": "code",
        "colab": {}
      },
      "source": [
        "if experiment_phase == 'training' and save_train_test_samples == True:\n",
        "    train_data = defaultdict(list)\n",
        "    test_data = defaultdict(list)\n",
        "    train_original_data = defaultdict(list)\n",
        "    test_original_data = defaultdict(list)\n",
        "    for item in train:\n",
        "        word = item['word']\n",
        "        original_definition = \" \".join(item['original_definition'].split()[:20])\n",
        "        definition = \" \".join([token for token in item['preprocessed_definition'] if not token == 'PAD'])\n",
        "        train_data[word].append(definition)\n",
        "        train_original_data[word].append(original_definition)\n",
        "    for item in test:\n",
        "        word = item['word']\n",
        "        original_definition = \" \".join(item['original_definition'].split()[:20])\n",
        "        definition = \" \".join([token for token in item['preprocessed_definition'] if not token == 'PAD'])\n",
        "        test_data[word].append(definition)\n",
        "        test_original_data[word].append(original_definition)"
      ],
      "execution_count": null,
      "outputs": []
    },
    {
      "cell_type": "code",
      "metadata": {
        "id": "exyXpM20Sh7Y",
        "colab_type": "code",
        "colab": {}
      },
      "source": [
        "if experiment_phase in {'training','continue'}:\n",
        "    x_train = array([item['array'] for item in train])\n",
        "    y_train = array([comparison_matrix[h2id[item['word']]] if item['word'] in h2id else output_vec_model[item['word']] for item in train])\n",
        "    x_dev = array([item['array'] for item in dev])\n",
        "    y_dev = array([comparison_matrix[h2id[item['word']]] if item['word'] in h2id else output_vec_model[item['word']] for item in dev])"
      ],
      "execution_count": null,
      "outputs": []
    },
    {
      "cell_type": "markdown",
      "metadata": {
        "id": "qTHzcwVEXQ3k",
        "colab_type": "text"
      },
      "source": [
        "**Saving the necessary variables**"
      ]
    },
    {
      "cell_type": "code",
      "metadata": {
        "id": "CAMMkkIVXR6V",
        "colab_type": "code",
        "colab": {}
      },
      "source": [
        "if experiment_phase == 'training':\n",
        "    if save_tools == True:\n",
        "        with open(project_path+folder_path+'tools.pkl','wb') as file:\n",
        "            pickle.dump(tools, file)\n",
        "    if save_train_test_samples == True:\n",
        "        train_test_data = (train_data, train_original_data, test_data, test_original_data)\n",
        "        with open(project_path+folder_path+'train_test_data.pkl','wb') as file:\n",
        "            pickle.dump(train_test_data, file)"
      ],
      "execution_count": null,
      "outputs": []
    },
    {
      "cell_type": "code",
      "metadata": {
        "id": "mx7KX9xvKhPi",
        "colab_type": "code",
        "colab": {}
      },
      "source": [
        "if experiment_phase == 'training':\n",
        "    emb_matrix_shape = embedding_matrix.shape\n",
        "    additional_tools = {'comparison_matrix':comparison_matrix, 't2id':t2id, 'h2id':h2id, 'id2h':id2h}\n",
        "    query_tools = (emb_matrix_shape, additional_tools)\n",
        "    with open(project_path+folder_path+'query_tools.pkl','wb') as file:\n",
        "        pickle.dump(query_tools, file)"
      ],
      "execution_count": null,
      "outputs": []
    },
    {
      "cell_type": "markdown",
      "metadata": {
        "id": "F_gBuN56Ivew",
        "colab_type": "text"
      },
      "source": [
        "**Loading Necessary Tools for Querying**"
      ]
    },
    {
      "cell_type": "code",
      "metadata": {
        "id": "bWelxKZ2KJeJ",
        "colab_type": "code",
        "colab": {}
      },
      "source": [
        "if experiment_phase == 'querying':\n",
        "    emb_matrix_shape , additional_tools = read_pickle(project_path+folder_path+'query_tools.pkl')\n",
        "    tools.update(additional_tools)"
      ],
      "execution_count": null,
      "outputs": []
    },
    {
      "cell_type": "markdown",
      "metadata": {
        "id": "WsWo-X61Xiku",
        "colab_type": "text"
      },
      "source": [
        "**Making a Model and Training it**"
      ]
    },
    {
      "cell_type": "markdown",
      "metadata": {
        "id": "16aucIuAj_Gy",
        "colab_type": "text"
      },
      "source": [
        "*Bag of Words*"
      ]
    },
    {
      "cell_type": "code",
      "metadata": {
        "id": "pRZhlJhpiipI",
        "colab_type": "code",
        "colab": {}
      },
      "source": [
        "if model_architecture == 'bag of words':\n",
        "    sequence_input = Input(shape=(max_seq_len,), dtype='int32', name='input')\n",
        "    embedding_layer = Embedding(emb_matrix_shape[0],\n",
        "                                input_emb_size,\n",
        "                                weights=[embedding_matrix] if 'embedding_matrix' in globals() else [np.zeros(emb_matrix_shape)],\n",
        "                                input_length=max_seq_len,\n",
        "                                trainable=not fixed_embeddings,\n",
        "                                mask_zero=True, name='embedding')\n",
        "    embedded_sequences = embedding_layer(sequence_input)\n",
        "    mean_vector = Lambda(lambda x: mean(x, axis=1), name='lambda')(embedded_sequences)\n",
        "    mean_vector = Flatten(name='flatten')(mean_vector)\n",
        "    output = Dense(dense_output_size, activation='tanh', name='dense')(mean_vector)\n",
        "    adadelta = optimizers.Adadelta(lr=learning_rate)\n",
        "    model = Model(inputs=sequence_input, outputs=output)\n",
        "    if loss_function == 'cosine':\n",
        "        model.compile(loss=cosine_loss,\n",
        "                    optimizer=adadelta,metrics=[cosine_sim])\n",
        "    elif loss_function == 'ranking':\n",
        "        model.compile(loss=rank_loss(margin),\n",
        "                    optimizer=adadelta,metrics=[cosine_sim])"
      ],
      "execution_count": null,
      "outputs": []
    },
    {
      "cell_type": "markdown",
      "metadata": {
        "id": "2o1UORkqk6Ed",
        "colab_type": "text"
      },
      "source": [
        "*LSTM (without attention)*"
      ]
    },
    {
      "cell_type": "code",
      "metadata": {
        "id": "hGT_QZftoYWw",
        "colab_type": "code",
        "colab": {}
      },
      "source": [
        "if model_architecture == 'LSTM':\n",
        "    sequence_input = Input(shape=(max_seq_len,), dtype='int32', name='input')\n",
        "    embedding_layer = Embedding(emb_matrix_shape[0],\n",
        "                                input_emb_size,\n",
        "                                weights=[embedding_matrix]  if 'embedding_matrix' in globals() else [np.zeros(emb_matrix_shape)],\n",
        "                                input_length=max_seq_len,\n",
        "                                trainable=not fixed_embeddings,\n",
        "                                mask_zero=True, name='embedding')\n",
        "    embedded_sequences = embedding_layer(sequence_input)\n",
        "    lstm = LSTM(lstm_output_size, return_sequences=False, name='lstm')(embedded_sequences)\n",
        "    output = Dense(dense_output_size, activation='tanh', name='dense')(lstm)\n",
        "    adadelta = optimizers.Adadelta(lr=learning_rate)\n",
        "    model = Model(inputs=sequence_input, outputs=output)\n",
        "    if loss_function == 'cosine':\n",
        "        model.compile(loss=cosine_loss,\n",
        "                    optimizer=adadelta,metrics=[cosine_sim])\n",
        "    elif loss_function == 'ranking':\n",
        "        model.compile(loss=rank_loss(margin),\n",
        "                    optimizer=adadelta,metrics=[cosine_sim])"
      ],
      "execution_count": null,
      "outputs": []
    },
    {
      "cell_type": "markdown",
      "metadata": {
        "id": "FkWxjSIZlwAA",
        "colab_type": "text"
      },
      "source": [
        "*BiLSTM (without attention)*"
      ]
    },
    {
      "cell_type": "code",
      "metadata": {
        "id": "6SWCnEdXlyU0",
        "colab_type": "code",
        "colab": {}
      },
      "source": [
        "if model_architecture == 'BiLSTM':\n",
        "    sequence_input = Input(shape=(max_seq_len,), dtype='int32', name='input')\n",
        "    embedding_layer = Embedding(emb_matrix_shape[0],\n",
        "                                input_emb_size,\n",
        "                                weights=[embedding_matrix] if 'embedding_matrix' in globals() else [np.zeros(emb_matrix_shape)],\n",
        "                                input_length=max_seq_len,\n",
        "                                trainable=not fixed_embeddings,\n",
        "                                mask_zero=True, name='embedding')\n",
        "    embedded_sequences = embedding_layer(sequence_input)\n",
        "    lstm = Bidirectional(LSTM(lstm_output_size, return_sequences=False, name='lstm'))(embedded_sequences)\n",
        "    output = Dense(dense_output_size, activation='tanh', name='dense')(lstm)\n",
        "    adadelta = optimizers.Adadelta(lr=learning_rate)\n",
        "    model = Model(inputs=sequence_input, outputs=output)\n",
        "    if loss_function == 'cosine':\n",
        "        model.compile(loss=cosine_loss,\n",
        "                    optimizer=adadelta,metrics=[cosine_sim])\n",
        "    elif loss_function == 'ranking':\n",
        "        model.compile(loss=rank_loss(margin),\n",
        "                    optimizer=adadelta,metrics=[cosine_sim])"
      ],
      "execution_count": null,
      "outputs": []
    },
    {
      "cell_type": "markdown",
      "metadata": {
        "id": "CBxsYqtk1z6J",
        "colab_type": "text"
      },
      "source": [
        "*LSTM (with attention)*"
      ]
    },
    {
      "cell_type": "code",
      "metadata": {
        "id": "N_kTQtT2Wkmk",
        "colab_type": "code",
        "colab": {}
      },
      "source": [
        "if model_architecture == 'LSTM (attention)':\n",
        "    sequence_input = Input(shape=(max_seq_len,), dtype='int32', name='input')\n",
        "    embedding_layer = Embedding(emb_matrix_shape[0],\n",
        "                                input_emb_size,\n",
        "                                weights=[embedding_matrix] if 'embedding_matrix' in globals() else [np.zeros(emb_matrix_shape)],\n",
        "                                input_length=max_seq_len,\n",
        "                                trainable=not fixed_embeddings,\n",
        "                                mask_zero=True, name='embedding')\n",
        "    embedded_sequences = embedding_layer(sequence_input)\n",
        "    lstm, state_h, state_c = LSTM(lstm_output_size, return_sequences=True, return_state=True, name='lstm')(embedded_sequences)\n",
        "    state_h = Lambda(lambda x: tf.expand_dims(x, 1), name='expand_dims')(state_h)\n",
        "    state_h = Dense(300, name='d1')(state_h)\n",
        "    lstm = Dense(300, name='d2')(lstm)\n",
        "    weights, context_vector = AdditiveAttention(name='attention')([state_h, lstm])\n",
        "    weights = Lambda(lambda x: tf.squeeze(x), name='squeezed_weights')(weights)\n",
        "    output = Dense(dense_output_size, activation='tanh', name='dense')(context_vector)\n",
        "    output = Lambda(lambda x: tf.squeeze(x), name='squeezed_output')(output)\n",
        "    adadelta = optimizers.Adadelta(lr=learning_rate)\n",
        "    model = Model(inputs=sequence_input, outputs=output)\n",
        "    attention_model = Model(inputs=sequence_input, outputs=weights)\n",
        "    if loss_function == 'cosine':\n",
        "        model.compile(loss=cosine_loss,\n",
        "                    optimizer=adadelta,metrics=[cosine_sim])\n",
        "    elif loss_function == 'ranking':\n",
        "        model.compile(loss=rank_loss(margin),\n",
        "                    optimizer=adadelta,metrics=[cosine_sim])"
      ],
      "execution_count": null,
      "outputs": []
    },
    {
      "cell_type": "markdown",
      "metadata": {
        "id": "bqiOp6yVl_Fe",
        "colab_type": "text"
      },
      "source": [
        "*BiLSTM (with attention)*"
      ]
    },
    {
      "cell_type": "code",
      "metadata": {
        "id": "z_CcCLEK0r8O",
        "colab_type": "code",
        "colab": {}
      },
      "source": [
        "if model_architecture == 'BiLSTM (attention)':\n",
        "    sequence_input = Input(shape=(max_seq_len,), dtype='int32', name='input')\n",
        "    embedding_layer = Embedding(emb_matrix_shape[0],\n",
        "                                input_emb_size,\n",
        "                                weights=[embedding_matrix] if 'embedding_matrix' in globals() else [np.zeros(emb_matrix_shape)],\n",
        "                                input_length=max_seq_len,\n",
        "                                trainable=not fixed_embeddings,\n",
        "                                mask_zero=True, name='embedding')\n",
        "    embedded_sequences = embedding_layer(sequence_input)\n",
        "    lstm, forward_h, forward_c, backward_h, backward_c = Bidirectional(LSTM(lstm_output_size, return_sequences=True, return_state=True, name='lstm'))(embedded_sequences)\n",
        "    state_h = tf.keras.layers.Concatenate()([forward_h, backward_h])\n",
        "    state_c = tf.keras.layers.Concatenate()([forward_c, backward_c])\n",
        "    state_h = tf.expand_dims(state_h, 1)\n",
        "    state_h = Dense(300, name='d1')(state_h)\n",
        "    lstm = Dense(300, name='d2')(lstm)\n",
        "    weights, context_vector = AdditiveAttention()([state_h, lstm])\n",
        "    weights = tf.squeeze(weights)\n",
        "    output = Dense(dense_output_size, activation='tanh', name='dense')(context_vector)\n",
        "    output = tf.squeeze(output)\n",
        "    adadelta = optimizers.Adadelta(lr=learning_rate)\n",
        "    model = Model(inputs=sequence_input, outputs=output)\n",
        "    attention_model = Model(inputs=sequence_input, outputs=weights)\n",
        "    if loss_function == 'cosine':\n",
        "        model.compile(loss=cosine_loss,\n",
        "                    optimizer=adadelta,metrics=[cosine_sim])\n",
        "    elif loss_function == 'ranking':\n",
        "        model.compile(loss=rank_loss(1.0),\n",
        "                    optimizer=adadelta,metrics=[cosine_sim])"
      ],
      "execution_count": null,
      "outputs": []
    },
    {
      "cell_type": "code",
      "metadata": {
        "id": "4VUXgFCzbhTo",
        "colab_type": "code",
        "colab": {}
      },
      "source": [
        "# lstm: [2, 20, 600]\n",
        "# state_h: [2, 600]\n",
        "# new_lstm (after Dense(300)):  [2, 20, 300]\n",
        "# new_state_h (after expand_dims): [2, 1, 600]\n",
        "# new_state_h (after Dense(300)): [2, 1, 300]"
      ],
      "execution_count": null,
      "outputs": []
    },
    {
      "cell_type": "markdown",
      "metadata": {
        "id": "68oE-F-AQFw3",
        "colab_type": "text"
      },
      "source": [
        "*Multi-head Attention*"
      ]
    },
    {
      "cell_type": "code",
      "metadata": {
        "id": "YFDwQjGbSvs3",
        "colab_type": "code",
        "colab": {}
      },
      "source": [
        "if model_architecture == 'BiLSTM (multiheadattention)':\n",
        "    sequence_input = Input(shape=(max_seq_len,), dtype='int32', name='input')\n",
        "    embedding_layer = Embedding(emb_matrix_shape[0],\n",
        "                                input_emb_size,\n",
        "                                weights=[embedding_matrix] if 'embedding_matrix' in globals() else [np.zeros(emb_matrix_shape)],\n",
        "                                input_length=max_seq_len,\n",
        "                                trainable=not fixed_embeddings,\n",
        "                                mask_zero=True, name='embedding')\n",
        "    embedded_sequences = embedding_layer(sequence_input)\n",
        "    lstm, forward_h, forward_c, backward_h, backward_c = Bidirectional(LSTM(lstm_output_size, return_sequences=True, return_state=True, name='lstm'))(embedded_sequences)\n",
        "    state_h = tf.keras.layers.Concatenate()([forward_h, backward_h])\n",
        "    state_c = tf.keras.layers.Concatenate()([forward_c, backward_c])\n",
        "    state_h = tf.expand_dims(state_h, 1)\n",
        "    context_vector = MultiheadAttention(num_heads, d_model)([state_h, lstm, lstm])\n",
        "    output = Dense(dense_output_size, activation='tanh', name='dense')(context_vector)\n",
        "    output = tf.squeeze(output)\n",
        "    adadelta = optimizers.Adadelta(lr=learning_rate)\n",
        "    model = Model(inputs=sequence_input, outputs=output)\n",
        "    if loss_function == 'cosine':\n",
        "        model.compile(loss=cosine_loss,\n",
        "                    optimizer=adadelta,metrics=[cosine_sim])\n",
        "    elif loss_function == 'ranking':\n",
        "        model.compile(loss=rank_loss(1.0),\n",
        "                    optimizer=adadelta,metrics=[cosine_sim])"
      ],
      "execution_count": null,
      "outputs": []
    },
    {
      "cell_type": "code",
      "metadata": {
        "id": "6XAA9tjEwT09",
        "colab_type": "code",
        "colab": {}
      },
      "source": [
        "if experiment_phase == 'training':\n",
        "    with open(log_dir,'a+',encoding='utf-8') as file:\n",
        "        model.summary(print_fn=lambda line: file.write(line + '\\n'))\n",
        "    write_line_to_file(str(model.loss), log_dir)"
      ],
      "execution_count": null,
      "outputs": []
    },
    {
      "cell_type": "code",
      "metadata": {
        "id": "VtLV5GUxUsOW",
        "colab_type": "code",
        "colab": {
          "base_uri": "https://localhost:8080/",
          "height": 35
        },
        "outputId": "fd9b128a-e97e-43eb-d7d9-4a0f1b1ce0bf"
      },
      "source": [
        "if experiment_phase in {'training','continue'}:\n",
        "    json_logging_callback = LambdaCallback(on_epoch_end=lambda epoch, logs:e_end('cosine_sim', epoch, logs, project_path+folder_path+'report.dat'))\n",
        "    optimizer_weights_callback = LambdaCallback(on_epoch_end=save_optimizer_state(model, project_path+folder_path+'optimizer_weights.pkl'))\n",
        "    model_weights_checkpoint = ModelCheckpoint(project_path+folder_path+'weights.h5', monitor='val_loss', verbose=0,save_best_only=True, mode='min', period=1, save_weights_only=True)\n",
        "    early_stopping = EarlyStopping(monitor='val_loss', restore_best_weights=True,patience=2, mode='min',min_delta=0.001)"
      ],
      "execution_count": null,
      "outputs": [
        {
          "output_type": "stream",
          "text": [
            "WARNING:tensorflow:`period` argument is deprecated. Please use `save_freq` to specify the frequency in number of batches seen.\n"
          ],
          "name": "stdout"
        }
      ]
    },
    {
      "cell_type": "code",
      "metadata": {
        "id": "RWDiArvXU4sL",
        "colab_type": "code",
        "colab": {
          "base_uri": "https://localhost:8080/",
          "height": 228
        },
        "outputId": "63da54d3-38dc-4584-97d9-bab720c4f500"
      },
      "source": [
        "if experiment_phase == 'continue':\n",
        "    model.fit(x_train[:1000], y_train[:1000], epochs=1, batch_size=batch_size, validation_data=(x_dev, y_dev))\n",
        "    with open(project_path+folder_path+'optimizer_weights.pkl') as f:\n",
        "        optimizer_weights = pickle.load(f)\n",
        "    model.optimizer.set_weights(optimizer_weights)   \n",
        "    model.set_weights(project_path+folder_path+'weights.h5')\n",
        "    start = time()\n",
        "    history = model.fit(x_train, y_train, epochs=num_epochs, batch_size=batch_size, validation_data=(x_dev, y_dev)\n",
        "    ,callbacks=[model_weights_checkpoint, early_stopping, json_logging_callback, optimizer_weights_callback]\n",
        "    )   \n",
        "    end = time()\n",
        "    duration = round(end-start,2)\n",
        "    write_line_to_file('Training Duration: '+str(duration)+' Seconds', log_dir)\n",
        "elif experiment_phase == 'training':\n",
        "    start = time()\n",
        "    history = model.fit(x_train, y_train, epochs=num_epochs, batch_size=batch_size, validation_data=(x_dev, y_dev)\n",
        "    ,callbacks=[model_weights_checkpoint, early_stopping, json_logging_callback, optimizer_weights_callback]\n",
        "    )   \n",
        "    end = time()\n",
        "    duration = round(end-start,2)\n",
        "    write_line_to_file('Training Duration: '+str(duration)+' Seconds', log_dir)\n",
        "elif experiment_phase == 'querying':\n",
        "    model.load_weights(project_path+folder_path+'weights.h5')"
      ],
      "execution_count": null,
      "outputs": [
        {
          "output_type": "stream",
          "text": [
            "Epoch 1/50\n",
            "6363/6363 [==============================] - 78s 12ms/step - loss: 0.5451 - cosine_sim: 0.4549 - val_loss: 0.6208 - val_cosine_sim: 0.3792\n",
            "Epoch 2/50\n",
            "6363/6363 [==============================] - 77s 12ms/step - loss: 0.5237 - cosine_sim: 0.4763 - val_loss: 0.6148 - val_cosine_sim: 0.3852\n",
            "Epoch 3/50\n",
            "6363/6363 [==============================] - 76s 12ms/step - loss: 0.5099 - cosine_sim: 0.4901 - val_loss: 0.6146 - val_cosine_sim: 0.3854\n",
            "Epoch 4/50\n",
            "6363/6363 [==============================] - 76s 12ms/step - loss: 0.4962 - cosine_sim: 0.5038 - val_loss: 0.6127 - val_cosine_sim: 0.3873\n",
            "Epoch 5/50\n",
            "6363/6363 [==============================] - 75s 12ms/step - loss: 0.4825 - cosine_sim: 0.5175 - val_loss: 0.6148 - val_cosine_sim: 0.3852\n",
            "Epoch 6/50\n",
            "6363/6363 [==============================] - 76s 12ms/step - loss: 0.4690 - cosine_sim: 0.5310 - val_loss: 0.6149 - val_cosine_sim: 0.3851\n"
          ],
          "name": "stdout"
        }
      ]
    },
    {
      "cell_type": "code",
      "metadata": {
        "id": "HvCSOfTFPRWw",
        "colab_type": "code",
        "colab": {}
      },
      "source": [
        "# model.optimizer.set_weights(weight_values)"
      ],
      "execution_count": null,
      "outputs": []
    },
    {
      "cell_type": "code",
      "metadata": {
        "id": "r6Jx4uwK67RB",
        "colab_type": "code",
        "colab": {
          "base_uri": "https://localhost:8080/",
          "height": 35
        },
        "outputId": "e6e3ef46-48cc-4f67-945c-b5134bc82da4"
      },
      "source": [
        "if experiment_phase in {'training','continue'}:\n",
        "    x_test = array([item['array'] for item in test])\n",
        "    y_test = array([comparison_matrix[h2id[item['word']]] if item['word'] in h2id else output_vec_model[item['word']] for item in test])\n",
        "    test_eval = model.evaluate(x_test, y_test)\n",
        "    test_loss = test_eval[0]\n",
        "    test_cosim = test_eval[1]\n",
        "    log_str = 'Test Loss: '+str(test_loss)+' - '+'Cosine Similarity: ' + str(test_cosim)\n",
        "    write_line_to_file(log_str, log_dir)"
      ],
      "execution_count": null,
      "outputs": [
        {
          "output_type": "stream",
          "text": [
            "252/252 [==============================] - 1s 5ms/step - loss: 0.6142 - cosine_sim: 0.3858\n"
          ],
          "name": "stdout"
        }
      ]
    },
    {
      "cell_type": "code",
      "metadata": {
        "id": "lt0qyeJDha_J",
        "colab_type": "code",
        "colab": {
          "base_uri": "https://localhost:8080/",
          "height": 295
        },
        "outputId": "d06166b1-c176-406b-c0ba-b38dba0e0164"
      },
      "source": [
        "if experiment_phase in {'training','continue'}:\n",
        "    plt.plot(history.history['cosine_sim'])\n",
        "    plt.plot(history.history['val_cosine_sim'])\n",
        "    plt.title('Training History')\n",
        "    plt.ylabel('Cosine Similarity')\n",
        "    plt.xlabel('epoch')\n",
        "    plt.legend(['training', 'development'], loc='upper left')\n",
        "    plt.show()"
      ],
      "execution_count": null,
      "outputs": [
        {
          "output_type": "display_data",
          "data": {
            "image/png": "[encoded data removed]",
            "text/plain": [
              "<Figure size 432x288 with 1 Axes>"
            ]
          },
          "metadata": {
            "tags": [],
            "needs_background": "light"
          }
        }
      ]
    },
    {
      "cell_type": "code",
      "metadata": {
        "id": "nTtfuWPQaXQP",
        "colab_type": "code",
        "colab": {
          "base_uri": "https://localhost:8080/",
          "height": 295
        },
        "outputId": "953321ae-9232-4b47-c52b-ecf696b00e94"
      },
      "source": [
        "if experiment_phase in {'training','continue'}:\n",
        "    plt.plot(history.history['loss'])\n",
        "    plt.plot(history.history['val_loss'])\n",
        "    plt.title('Training History')\n",
        "    plt.ylabel('Loss')\n",
        "    plt.xlabel('epoch')\n",
        "    plt.legend(['training', 'development'], loc='upper left')\n",
        "    plt.show()"
      ],
      "execution_count": null,
      "outputs": [
        {
          "output_type": "display_data",
          "data": {
            "image/png": "[encoded data removed]",
            "text/plain": [
              "<Figure size 432x288 with 1 Axes>"
            ]
          },
          "metadata": {
            "tags": [],
            "needs_background": "light"
          }
        }
      ]
    },
    {
      "cell_type": "markdown",
      "metadata": {
        "id": "v1NVpDTFX4MC",
        "colab_type": "text"
      },
      "source": [
        "**Evaluating the model based on its performance on the testing set**"
      ]
    },
    {
      "cell_type": "code",
      "metadata": {
        "id": "T_Fn6N-nWDOb",
        "colab_type": "code",
        "colab": {}
      },
      "source": [
        "vec_sim_coefficient = 0.6\n",
        "intent_coefficient = 0.4\n",
        "intent_threshold = 0.5"
      ],
      "execution_count": null,
      "outputs": []
    },
    {
      "cell_type": "code",
      "metadata": {
        "id": "BsRLw2x3USM0",
        "colab_type": "code",
        "colab": {}
      },
      "source": [
        "def query(inputs, topn, max_seq_len, models, tools):\n",
        "    globals().update(models)\n",
        "    words = inputs['words'] if 'words' in inputs else ['UNK' for definition in inputs['definitions']]\n",
        "    definitions = inputs['definitions']\n",
        "    general_tags= inputs['general_tags'] if 'general_tags' in inputs else [set() for definition in inputs['definitions']]\n",
        "    sense_tags= inputs['sense_tags'] if 'sense_tags' in inputs else [set() for definition in inputs['definitions']]\n",
        "    sources = inputs['sources'] if 'sources' in inputs else ['UNK' for definition in inputs['definitions']]\n",
        "    preprocessed_definitions = []\n",
        "    globals().update(tools)\n",
        "    \n",
        "    if 'intent_model' in globals():\n",
        "        intent_tools = {'intent_g2id':intent_g2id, 'id2c':intent_id2c, 'normalizer':normalizer,'intent_maxlen':intent_maxlen\n",
        "        ,'intent_model':intent_model, 'intent_threshold':intent_threshold}\n",
        "        intent_classes = query_intent_classifier(definitions, intent_tools, method='names')\n",
        "        intent_probs = query_intent_classifier(definitions, intent_tools, method='probs')\n",
        "    else:\n",
        "        intent_classes = [set() for i in range(len(definitions))]\n",
        "    \n",
        "    \n",
        "    samples = []\n",
        "    items = []\n",
        "    for (word, definition) in zip(words, definitions):\n",
        "        # making a sample out of the definition\n",
        "        original_definition, preprocessed_definition, nparray = preprocess_definition(definition, max_seq_len, tools)\n",
        "        preprocessed_definitions.append(preprocessed_definition)\n",
        "        sample = nparray.reshape((-1, max_seq_len))\n",
        "        samples.append(sample)\n",
        "    samples = array(samples)\n",
        "    samples = samples.reshape((-1, max_seq_len))\n",
        "    # running the models on the sample\n",
        "    preds = model.predict(samples)\n",
        "    if 'attention_model' in models:\n",
        "        weights = attention_model(samples) # batch_size*1*\n",
        "    else:\n",
        "        weights = array([array([1/max_seq_len for kprim in range(max_seq_len)]) for k in range(len(samples))])\n",
        "    # calculating the cosine distance between the output and each head word\n",
        "    dists = dist.cdist(preds, comparison_matrix, metric=\"cosine\")\n",
        "    sims = 1 - dists\n",
        "    del dists\n",
        "    sims = nan_to_num(sims)\n",
        "\n",
        "    # combine intent score -begin\n",
        "    if 'intent_model' in globals():\n",
        "        intent_c2id = {}\n",
        "        for (intent_i, intent_c) in intent_id2c.items():\n",
        "            intent_c2id[intent_c] = intent_i\n",
        "        for sample_idx, (s, p) in enumerate(zip(sims, intent_probs)):\n",
        "            for head_idx in range(len(s)):\n",
        "                head_word = id2h[head_idx]\n",
        "                head_word_pos_tags = word_tags[head_word] # a set\n",
        "                head_word_pos_ids = [intent_c2id[tag] for tag in head_word_pos_tags if tag in intent_c2id]\n",
        "                curr_intent_score = 0\n",
        "                for hwp_id in head_word_pos_ids:\n",
        "                    if p[hwp_id] >= intent_threshold:\n",
        "                        curr_intent_score += p[hwp_id] \n",
        "                sims[sample_idx][head_idx] = sims[sample_idx][head_idx] + min(intent_coefficient, intent_coefficient*curr_intent_score)\n",
        "    # combine intent score -end\n",
        "\n",
        "    candidate_ids = flip(sims.argsort(), 1)\n",
        "    del sims\n",
        "    \n",
        "    \n",
        "    \n",
        "    for (cid, weight, word, definition, preprocessed_definition, nparray, source, stags, gtags, intent_class) in zip(candidate_ids, weights, words, definitions, preprocessed_definitions, samples, sources, sense_tags, general_tags, intent_classes):\n",
        "        \n",
        "\n",
        "        # curr_def_is_a_word = False\n",
        "        # if definition.strip() in h2id:\n",
        "        #     curr_def_is_a_word = True\n",
        "        # if curr_def_is_a_word == True:\n",
        "        #     curr_def_id = h2id[definition.strip()]\n",
        "        #     cid = [curr_id for curr_id in cid if curr_def_id!=curr_id]\n",
        "        \n",
        "        # remove all definition words from cid -begin\n",
        "        definition_tokens = set(definition.split())\n",
        "        definition_tokens = set([dt for dt in definition_tokens if dt in h2id])\n",
        "        definition_tokens_ids = set([h2id[dt] for dt in definition_tokens])\n",
        "        cid = [curr_id for curr_id in cid if curr_id not in definition_tokens_ids]\n",
        "        # remove all definition words from cid -end\n",
        "        \n",
        "        \n",
        "        cid = list(cid)\n",
        "        # getting the top words from the ranking\n",
        "        topwords = [id2h[idx] for idx in cid[:topn]]\n",
        "        # calculating the ranks\n",
        "        num_words = len(h2id)\n",
        "        accepted_output_words = synonyms[word] if word in synonyms else set()\n",
        "        accepted_output_words.add(word)\n",
        "        try:\n",
        "            main_word_rank = cid.index(h2id[word])+1\n",
        "        except:\n",
        "            main_word_rank = num_words\n",
        "        accepted_output_ids = [h2id[w] for w in accepted_output_words if w in h2id and w!=original_definition.strip()]\n",
        "        try:\n",
        "            output_word_id, given_word_rank = get_rank(cid, accepted_output_ids)\n",
        "        except:\n",
        "            given_word_rank = num_words\n",
        "            output_word_id = False\n",
        "        # making the report item\n",
        "        item = {\n",
        "            'main_word':word,\n",
        "            'original_definition':definition,\n",
        "            'preprocessed_definition':preprocessed_definition,\n",
        "            'array':nparray,\n",
        "            'attention':weight,\n",
        "            'intent':set(intent_class),\n",
        "            'main_word_rank':main_word_rank,\n",
        "            'synset_word_rank':given_word_rank,\n",
        "            'synset_word':'UNK' if not output_word_id else id2h[output_word_id],\n",
        "            'topwords':topwords,\n",
        "            'source':source,\n",
        "            'sense_tags':stags,\n",
        "            'general_tags':gtags\n",
        "        }\n",
        "        items.append(item)\n",
        "    return items"
      ],
      "execution_count": null,
      "outputs": []
    },
    {
      "cell_type": "code",
      "metadata": {
        "id": "cwMqLVpTaday",
        "colab_type": "code",
        "colab": {}
      },
      "source": [
        "def stratified_sample(items, sources, num_head_words, sample_size):\n",
        "    items = [item for item in items if item['source'] in sources]\n",
        "    num_items = num_head_words\n",
        "    section_size = int(num_items/sample_size)\n",
        "    sections = [[] for i in range(sample_size)]\n",
        "    for i in range(sample_size):\n",
        "        sections[i] = [item for item in items if section_size*i<=item['rank']<=section_size*(i+1)]\n",
        "    samples = [sample(sections[i], 1)[0] if len(sections[i])>0 else sample(sections[i-1]+sections[i+1],1)[0] for i in range(sample_size)]\n",
        "    return samples"
      ],
      "execution_count": null,
      "outputs": []
    },
    {
      "cell_type": "code",
      "metadata": {
        "id": "9uagVHoMKs49",
        "colab_type": "code",
        "colab": {}
      },
      "source": [
        "if experiment_phase in {'training','continue'}:\n",
        "    train_samples = stratified_sample(train, {'amid','moeen-vy','dehkhoda-vy'}, num_head_words, 500)\n",
        "    train_inputs = {\n",
        "        'definitions':[item['original_definition'] for item in train_samples],\n",
        "        'words':[item['word'] for item in train_samples],\n",
        "        'sources':[item['source'] for item in train_samples],\n",
        "        'sense_tags':[item['sense_tags'] for item in train_samples],\n",
        "        'general_tags':[item['general_tags'] for item in train_samples]\n",
        "    }\n",
        "    if 'attention_model' in globals():\n",
        "        q = query(train_inputs, 10, max_seq_len, {'model':model, 'attention_model':attention_model}, tools)\n",
        "    else:\n",
        "        q = query(train_inputs, 10, max_seq_len, {'model':model}, tools)\n",
        "    if use_intent_classifier == True:\n",
        "        write_line_to_file('-------------', log_dir)\n",
        "        intent_eval = evaluate_intent_classifier(q, word_tags)\n",
        "        write_line_to_file('Intent Classifier Seen Evaluation: ', log_dir)\n",
        "        write_line_to_file(str(intent_eval), log_dir)\n",
        "    e = evaluate(q)\n",
        "    write_line_to_file('-------------', log_dir)\n",
        "    log_str = 'Seen Evaluation:\\n'+'Median: '+str(e['main_eval']['median'])+', Variance: '+str(e['main_eval']['variance'])+', Acc@10: '+str(e['main_eval']['acc@10'])+', Acc@100: '+str(e['main_eval']['acc@100'])+'\\n'\n",
        "    write_line_to_file(log_str, log_dir)\n",
        "    log_str = 'Seen Synonym Evaluation:\\n'+'Median: '+str(e['synset_eval']['median'])+', Variance: '+str(e['synset_eval']['variance'])+', Acc@10: '+str(e['synset_eval']['acc@10'])+', Acc@100: '+str(e['synset_eval']['acc@100'])+'\\n'\n",
        "    write_line_to_file(log_str, log_dir)\n",
        "    write_line_to_file(str(e['bad_results']), log_dir)"
      ],
      "execution_count": null,
      "outputs": []
    },
    {
      "cell_type": "code",
      "metadata": {
        "id": "DkFrpE5Vzm7w",
        "colab_type": "code",
        "colab": {}
      },
      "source": [
        "if experiment_phase in {'training','continue'}:\n",
        "    test_samples = stratified_sample(test, {'amid','moeen-vy','dehkhoda-vy'}, num_head_words, test_sample_size)\n",
        "    test_inputs = {\n",
        "        'definitions':[item['original_definition'] for item in test_samples],\n",
        "        'words':[item['word'] for item in test_samples],\n",
        "        'sources':[item['source'] for item in test_samples],\n",
        "        'sense_tags':[item['sense_tags'] for item in test_samples],\n",
        "        'general_tags':[item['general_tags'] for item in test_samples]\n",
        "    }\n",
        "    if 'attention_model' in globals():\n",
        "        q = query(test_inputs, 10, max_seq_len, {'model':model, 'attention_model':attention_model}, tools)\n",
        "    else:\n",
        "        q = query(test_inputs, 10, max_seq_len, {'model':model}, tools)\n",
        "    if use_intent_classifier == True:\n",
        "        write_line_to_file('-------------', log_dir)\n",
        "        intent_eval = evaluate_intent_classifier(q, word_tags)\n",
        "        write_line_to_file('Intent Classifier Unseen Evaluation: ', log_dir)\n",
        "        write_line_to_file(str(intent_eval), log_dir)\n",
        "    e = evaluate(q)\n",
        "    write_line_to_file('-------------', log_dir)\n",
        "    log_str = 'Unseen Evaluation:\\n'+'Median: '+str(e['main_eval']['median'])+', Variance: '+str(e['main_eval']['variance'])+', Acc@10: '+str(e['main_eval']['acc@10'])+', Acc@100: '+str(e['main_eval']['acc@100'])+'\\n'\n",
        "    write_line_to_file(log_str, log_dir)\n",
        "    log_str = 'Unseen Synonym Evaluation:\\n'+'Median: '+str(e['synset_eval']['median'])+', Variance: '+str(e['synset_eval']['variance'])+', Acc@10: '+str(e['synset_eval']['acc@10'])+', Acc@100: '+str(e['synset_eval']['acc@100'])+'\\n'\n",
        "    write_line_to_file(log_str, log_dir)\n",
        "    write_line_to_file(str(e['bad_results']), log_dir)"
      ],
      "execution_count": null,
      "outputs": []
    },
    {
      "cell_type": "code",
      "metadata": {
        "id": "Y9TwgJ7hFYIv",
        "colab_type": "code",
        "colab": {}
      },
      "source": [
        "if experiment_phase in {'training','continue'}:\n",
        "    synset_good10 = [item for item in q if 1<=item['synset_word_rank']<=10]\n",
        "    synset_good100 = [item for item in q if 10<item['synset_word_rank']<=100]\n",
        "    synset_bad100 = [item for item in q if 100<item['synset_word_rank']]\n",
        "    save_group_reports(synset_good10, project_path+folder_path+'good10.html')\n",
        "    save_group_reports(synset_good100, project_path+folder_path+'good100.html')\n",
        "    save_group_reports(synset_bad100, project_path+folder_path+'bad100.html')"
      ],
      "execution_count": null,
      "outputs": []
    },
    {
      "cell_type": "code",
      "metadata": {
        "id": "xA2Ixg6vevvl",
        "colab_type": "code",
        "colab": {}
      },
      "source": [
        "if experiment_phase in {'training','continue'}:\n",
        "    dictionaries = {'amid','moeen-vy','dehkhoda-vy'}\n",
        "    for dictionary in dictionaries:\n",
        "        test_samples = stratified_sample(test, {dictionary}, num_head_words, test_sample_size)\n",
        "        test_inputs = {\n",
        "            'definitions':[item['original_definition'] for item in test_samples],\n",
        "            'words':[item['word'] for item in test_samples],\n",
        "            'sources':[item['source'] for item in test_samples]\n",
        "        }\n",
        "        if 'attention_model' in globals():\n",
        "            q = query(test_inputs, 10, max_seq_len, {'model':model, 'attention_model':attention_model}, tools)\n",
        "        else:\n",
        "            q = query(test_inputs, 10, max_seq_len, {'model':model}, tools)\n",
        "        e = evaluate(q)\n",
        "        write_line_to_file('-------------', log_dir)\n",
        "        log_str = 'Source: '+dictionary\n",
        "        write_line_to_file(log_str, log_dir)\n",
        "        log_str = 'Unseen Evaluation:\\n'+'Median: '+str(e['main_eval']['median'])+', Variance: '+str(e['main_eval']['variance'])+', Acc@10: '+str(e['main_eval']['acc@10'])+', Acc@100: '+str(e['main_eval']['acc@100'])+'\\n'\n",
        "        write_line_to_file(log_str, log_dir)\n",
        "        log_str = 'Unseen Synonym Evaluation:\\n'+'Median: '+str(e['synset_eval']['median'])+', Variance: '+str(e['synset_eval']['variance'])+', Acc@10: '+str(e['synset_eval']['acc@10'])+', Acc@100: '+str(e['synset_eval']['acc@100'])+'\\n'\n",
        "        write_line_to_file(log_str, log_dir)\n",
        "        write_line_to_file(str(e['bad_results']), log_dir)\n",
        "        correct_words = [item['main_word'] for item in q]\n",
        "        input_descriptions = [item['original_definition'] for item in q]\n",
        "        dict_evaluation_df = pd.DataFrame(list(zip(correct_words, input_descriptions)), columns=['word','description'])\n",
        "        dict_evaluation_df.to_excel(project_path+folder_path+dictionary+'.xlsx', encoding='utf-8')\n",
        "        for k in range(3):\n",
        "            output_words = [item['topwords'][k] for item in q]\n",
        "            evaluation_df = pd.DataFrame(list(zip(output_words, input_descriptions)), columns=['word','description'])\n",
        "            evaluation_df.to_excel(project_path+folder_path+dictionary+'-'+str(k+1)+'.xlsx', encoding='utf-8')"
      ],
      "execution_count": null,
      "outputs": []
    },
    {
      "cell_type": "code",
      "metadata": {
        "id": "Y_w7rs5WMu3Z",
        "colab_type": "code",
        "colab": {}
      },
      "source": [
        "definition = 'از فوتبالیست فوتبال ایران'\n",
        "inputs = {'definitions': [definition,\n",
        "'آدمیان',\n",
        "'زنده زنده']}\n",
        "models = {'model':model}\n",
        "if 'attention_model' in globals():\n",
        "    models['attention_model'] = attention_model\n",
        "query(inputs, 10, max_seq_len, models, tools)"
      ],
      "execution_count": null,
      "outputs": []
    }
  ]
}